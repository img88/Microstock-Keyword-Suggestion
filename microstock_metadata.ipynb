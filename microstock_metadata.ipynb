{
 "metadata": {
  "language_info": {
   "codemirror_mode": {
    "name": "ipython",
    "version": 3
   },
   "file_extension": ".py",
   "mimetype": "text/x-python",
   "name": "python",
   "nbconvert_exporter": "python",
   "pygments_lexer": "ipython3",
   "version": "3.8.6"
  },
  "orig_nbformat": 2,
  "kernelspec": {
   "name": "pythonjvsc74a57bd06c6bc35ef9c34d4ba68a4080b77246049a4221d7843e2c7a55b37c9080fd4c4d",
   "display_name": "Python 3.8.6 64-bit"
  }
 },
 "nbformat": 4,
 "nbformat_minor": 2,
 "cells": [
  {
   "source": [
    "# Microstock Keyword Helper\n",
    "Author: Irfan Muhammad Ghani\n",
    "Updated: 13 Apr 2021\n",
    "\n",
    "\n",
    "Pada dasarnya urutan keyword yang digunakan pada metadata gambar sangat menentukan posisi hasil pencarian, dan ini mempengaruhi banyaknya download dan penghasilan.\n",
    "\n",
    "Tools ini dibuat untuk memudahkan microstocker dalam menganalisa title dan keywords yang akan digunakan di dalam metadata gambar.\n",
    "\n",
    "Yang dibutuhkan:\n",
    "\n",
    "- Pandas\n",
    "- Selenium\n",
    "- BeautifulSoup\n",
    "- Driver browser:\n",
    "    - Edge: https://developer.microsoft.com/en-us/microsoft-edge/tools/webdriver/\n",
    "    - Chrome: https://chromedriver.chromium.org/downloads\n",
    "    - Apabila browser yang digunakan bukan di atas, cari dengan kata kunci \"nama_browsernya driver\"\n",
    "\n",
    "Cara kerjanya:\n",
    "\n",
    "- Pastikan telah menginstall library yang diperlukan dan memasukkan driver browser ke variable \"driver\"\n",
    "- Masukkan kata kunci pencarian gambar di variable \"search_for\", dan masukkan jumlah data yg ingin diambil di variable \"how_many\"\n",
    "- Sistem akan melakukan scapping data pada halaman pertama pencarian, diantaranya:\n",
    "    - Title\n",
    "    - Keywords\n",
    "    - Jumlah keywords\n",
    "    - Category\n",
    "    - Author\n",
    "    - Jumlah stok Author\n",
    "    - Link author\n",
    "    - Link gambar\n",
    "- Semua data akan disimpan pada dataframe \"metadata\", dari sini temen-temen bisa menganalisa beberapa hal, semisal keyword apa saja yg paling relevan untuk pencarian tersebut, atau menentukan judul yang cocok untuk gambar yang akan diupload.\n",
    "- Selain itu, data tersebut akan disimpan dalam format .csv<br/><br/>\n",
    "\n",
    "Tools ini baru bisa mengambil data dari Shutterstock saja, mungkin jika ada waktu luang akan saya update agar bisa mengambil data dari agensi lainnya, dan menambahkan beberapa fitur otomatis.\n"
   ],
   "cell_type": "markdown",
   "metadata": {}
  },
  {
   "cell_type": "code",
   "execution_count": 1,
   "metadata": {},
   "outputs": [],
   "source": [
    "import pandas as pd\n",
    "from selenium import webdriver\n",
    "from bs4 import BeautifulSoup\n",
    "\n",
    "# masukkan driver browser yang digunakan\n",
    "driver = webdriver.Edge('msedgedriver')"
   ]
  },
  {
   "cell_type": "code",
   "execution_count": 2,
   "metadata": {},
   "outputs": [],
   "source": [
    "# masukkan kata kuncinya di sini\n",
    "search_for = 'isometric laptop'\n",
    "\n",
    "# masukkan jumlah data yang ingin diambil\n",
    "how_many = 5\n",
    "\n",
    "URL_home = 'https://www.shutterstock.com'\n",
    "URL_search = 'https://www.shutterstock.com/search/'\n",
    "\n",
    "driver.get(URL_search + search_for)\n",
    "content = driver.page_source\n",
    "soup = BeautifulSoup(content)"
   ]
  },
  {
   "cell_type": "code",
   "execution_count": 3,
   "metadata": {
    "tags": []
   },
   "outputs": [
    {
     "output_type": "stream",
     "name": "stdout",
     "text": [
      "proses\n",
      "proses\n",
      "proses\n",
      "proses\n",
      "proses\n"
     ]
    }
   ],
   "source": [
    "# get item url from search page\n",
    "links = []\n",
    "for a in soup.find_all('a', href = True, class_ = 'z_h_81637'):\n",
    "    links.append(URL_home + a['href'])\n",
    "    # print(URL_home + a['href'])\n",
    "\n",
    "titles = []\n",
    "keywords = []\n",
    "categories = []\n",
    "author = []\n",
    "author_link = []\n",
    "author_total_stock_text = []\n",
    "image_link = []\n",
    "word_temp = []\n",
    "\n",
    "#get title and keywords from item\n",
    "for link in links[:how_many]:\n",
    "    driver.get(link)\n",
    "    content = driver.page_source\n",
    "    soup = BeautifulSoup(content)\n",
    "\n",
    "    # get image link\n",
    "    image_link.append(link)\n",
    "\n",
    "    # get title\n",
    "    titles.append(soup.find('h1', class_ = 'm_b_d59a1 font-headline-base').get_text())\n",
    "\n",
    "    # get categories\n",
    "    for category in soup.find_all('p', class_ = 'm_q_51037'):\n",
    "        for a in category.find_all('a'):\n",
    "            word_temp.append(a.get_text())\n",
    "        categories.append(word_temp)\n",
    "        word_temp = []\n",
    "\n",
    "    # get keywords\n",
    "    for keyword in soup.find_all('div', class_ = 'C_a_03061'):\n",
    "        for word in keyword.find_all('a'):\n",
    "            word_temp.append(word.get_text())\n",
    "        keywords.append(word_temp)\n",
    "        word_temp = []\n",
    "\n",
    "    # get author\n",
    "    for auth in soup.find_all('p', class_ = \"oc_Q_7bfac\"):\n",
    "        for a in auth.find_all('a', href = True):\n",
    "            author.append(a.get_text())\n",
    "            author_link.append(a['href'])\n",
    "    \n",
    "    # get total stock author\n",
    "    driver.get(a['href'])\n",
    "    content = driver.page_source\n",
    "    soup = BeautifulSoup(content)\n",
    "\n",
    "    author_total_stock_text.append(soup.find('h2', class_ = \"z_n_1ebe6\").get_text())\n",
    "\n",
    "    print(\"^\")"
   ]
  },
  {
   "cell_type": "code",
   "execution_count": 4,
   "metadata": {},
   "outputs": [],
   "source": [
    "# get total keyword\n",
    "keywords_total = []\n",
    "for idx, words in enumerate(keywords):\n",
    "    keywords_total.append(len(words))"
   ]
  },
  {
   "cell_type": "code",
   "execution_count": 5,
   "metadata": {},
   "outputs": [],
   "source": [
    "# cleaning total stock\n",
    "author_total_stock = []\n",
    "for idx, total in enumerate(author_total_stock_text):\n",
    "    author_total_stock.append(total.split()[0].replace(\",\",\"\"))"
   ]
  },
  {
   "cell_type": "code",
   "execution_count": 6,
   "metadata": {},
   "outputs": [],
   "source": [
    "# create dataframe\n",
    "metadata = pd.DataFrame({\n",
    "    \"Title\" : titles,\n",
    "    # \"Category\" : categories,\n",
    "    \"Keyword\" : keywords,\n",
    "    \"TotalKeyword\" : keywords_total,\n",
    "    \"Author\" : author,\n",
    "    \"Total Stock\" : author_total_stock,\n",
    "    \"Author Link\" : author_link,\n",
    "    \"Image Link\" : image_link\n",
    "})"
   ]
  },
  {
   "cell_type": "code",
   "execution_count": 7,
   "metadata": {},
   "outputs": [
    {
     "output_type": "execute_result",
     "data": {
      "text/plain": [
       "                                               Title  \\\n",
       "0    Big data concept. Isometric vector illustration   \n",
       "1  Concept business strategy. Analysis data and I...   \n",
       "2  Web design and Front end development isometric...   \n",
       "3  Isometric vector set of computer, laptop. 3d d...   \n",
       "4  Opened grey laptop, modern technology, device,...   \n",
       "\n",
       "                                             Keyword  TotalKeyword  \\\n",
       "0  [isometric, laptop, computer, data, 3d, vector...            43   \n",
       "1  [isometric, laptop, market, analytic, business...            50   \n",
       "2  [app, application, background, banner, busines...            50   \n",
       "3  [isometric, laptop, vector, 3d, pc, notebook, ...            30   \n",
       "4  [3d, business, cartoon, clip art, communicatio...            50   \n",
       "\n",
       "               Author Total Stock  \\\n",
       "0  victoria pineapple         252   \n",
       "1        monkographic        2588   \n",
       "2    Andrii Symonenko       13079   \n",
       "3         RobertCop93         373   \n",
       "4             robuart      139629   \n",
       "\n",
       "                                         Author Link  \n",
       "0  https://www.shutterstock.com/g/victoria+pineapple  \n",
       "1        https://www.shutterstock.com/g/monkographic  \n",
       "2    https://www.shutterstock.com/g/Symonenko_Andrii  \n",
       "3         https://www.shutterstock.com/g/RobertCop13  \n",
       "4             https://www.shutterstock.com/g/robuart  "
      ],
      "text/html": "<div>\n<style scoped>\n    .dataframe tbody tr th:only-of-type {\n        vertical-align: middle;\n    }\n\n    .dataframe tbody tr th {\n        vertical-align: top;\n    }\n\n    .dataframe thead th {\n        text-align: right;\n    }\n</style>\n<table border=\"1\" class=\"dataframe\">\n  <thead>\n    <tr style=\"text-align: right;\">\n      <th></th>\n      <th>Title</th>\n      <th>Keyword</th>\n      <th>TotalKeyword</th>\n      <th>Author</th>\n      <th>Total Stock</th>\n      <th>Author Link</th>\n    </tr>\n  </thead>\n  <tbody>\n    <tr>\n      <th>0</th>\n      <td>Big data concept. Isometric vector illustration</td>\n      <td>[isometric, laptop, computer, data, 3d, vector...</td>\n      <td>43</td>\n      <td>victoria pineapple</td>\n      <td>252</td>\n      <td>https://www.shutterstock.com/g/victoria+pineapple</td>\n    </tr>\n    <tr>\n      <th>1</th>\n      <td>Concept business strategy. Analysis data and I...</td>\n      <td>[isometric, laptop, market, analytic, business...</td>\n      <td>50</td>\n      <td>monkographic</td>\n      <td>2588</td>\n      <td>https://www.shutterstock.com/g/monkographic</td>\n    </tr>\n    <tr>\n      <th>2</th>\n      <td>Web design and Front end development isometric...</td>\n      <td>[app, application, background, banner, busines...</td>\n      <td>50</td>\n      <td>Andrii Symonenko</td>\n      <td>13079</td>\n      <td>https://www.shutterstock.com/g/Symonenko_Andrii</td>\n    </tr>\n    <tr>\n      <th>3</th>\n      <td>Isometric vector set of computer, laptop. 3d d...</td>\n      <td>[isometric, laptop, vector, 3d, pc, notebook, ...</td>\n      <td>30</td>\n      <td>RobertCop93</td>\n      <td>373</td>\n      <td>https://www.shutterstock.com/g/RobertCop13</td>\n    </tr>\n    <tr>\n      <th>4</th>\n      <td>Opened grey laptop, modern technology, device,...</td>\n      <td>[3d, business, cartoon, clip art, communicatio...</td>\n      <td>50</td>\n      <td>robuart</td>\n      <td>139629</td>\n      <td>https://www.shutterstock.com/g/robuart</td>\n    </tr>\n  </tbody>\n</table>\n</div>"
     },
     "metadata": {},
     "execution_count": 7
    }
   ],
   "source": [
    "metadata"
   ]
  },
  {
   "cell_type": "code",
   "execution_count": 8,
   "metadata": {},
   "outputs": [],
   "source": [
    "metadata.to_csv(search_for + \".csv\", index=False)"
   ]
  },
  {
   "cell_type": "code",
   "execution_count": 9,
   "metadata": {},
   "outputs": [
    {
     "output_type": "stream",
     "name": "stdout",
     "text": [
      "jumlah seluruh keyword: 223\njumlah keyword unik: 132\n"
     ]
    }
   ],
   "source": [
    "# jumlah kemunculan setiap keyword\n",
    "keyword_gabungan = metadata.Keyword.sum()\n",
    "print(\"jumlah seluruh keyword:\", len(keyword_gabungan))\n",
    "print(\"jumlah keyword unik:\", pd.Series(metadata[\"Keyword\"].sum()).nunique())"
   ]
  },
  {
   "cell_type": "code",
   "execution_count": 10,
   "metadata": {},
   "outputs": [
    {
     "output_type": "stream",
     "name": "stdout",
     "text": [
      "daftar keyword unik:\n ['isometric' 'laptop' 'computer' 'data' '3d' 'vector' 'science' 'chart'\n 'business' 'design' 'mobile' 'internet' 'technology' 'seo' 'coffee'\n 'notebook' 'web' 'concept' 'gradient' 'graphic' 'intelligence' 'website'\n 'app' 'information' 'optimization' 'statistics' 'network' 'phone'\n 'background' 'banner' 'cup' 'mining' 'analytics' 'big data'\n 'data analysis' 'data management' 'documents' 'graphs' 'illustration'\n 'infographics' 'interface' 'management' 'overload' 'market' 'analytic'\n 'analysis' 'report' 'icon' 'strategy' 'research' 'flat' 'graph'\n 'financial' 'stock' 'calculator' 'service' 'money' 'infographic'\n 'statistic' 'economic' 'plan' 'success' 'growth' 'diagram' 'corporate'\n 'modern' 'progress' 'symbol' 'communication' 'development' 'digital'\n 'finance' 'graphics' 'investment' 'marketing' 'application' 'code'\n 'coding' 'creating' 'developer' 'doodle' 'end' 'front' 'front-end'\n 'frontend' 'hands' 'icons' 'landing page' 'male' 'media' 'page'\n 'production' 'programmer' 'programming' 'style' 'template' 'top' 'upload'\n 'view' 'workplace' 'pc' 'isolated' 'screen' 'device' 'office' 'user'\n 'collection' 'display' 'tablet' 'cartoon' 'clip art' 'communications'\n 'compact' 'electronic' 'electronics' 'equipment' 'gadget' 'gray' 'grey'\n 'keyboard' 'logo' 'mobility' 'object' 'online' 'open' 'personal'\n 'portable' 'processor' 'tech' 'white' 'wireless' 'work']\n"
     ]
    }
   ],
   "source": [
    "# daftar keyword unik\n",
    "keyword_unik = pd.Series(metadata[\"Keyword\"].sum()).unique()\n",
    "print(\"daftar keyword unik:\\n\", keyword_unik)"
   ]
  },
  {
   "cell_type": "code",
   "execution_count": 11,
   "metadata": {},
   "outputs": [
    {
     "output_type": "stream",
     "name": "stdout",
     "text": [
      "      Keyword Unik  Kemunculan\n16             web           5\n38    illustration           5\n2         computer           5\n5           vector           5\n8         business           5\n9           design           5\n1           laptop           5\n11        internet           5\n12      technology           5\n17         concept           5\n47            icon           4\n50            flat           4\n28      background           4\n65          modern           4\n0        isometric           4\n70         digital           4\n3             data           4\n4               3d           4\n15        notebook           3\n23     information           3\n40       interface           3\n10          mobile           3\n19         graphic           3\n67          symbol           3\n100             pc           2\n68   communication           2\n101       isolated           2\n103         device           2\n104         office           2\n76            code           2\n107        display           2\n69     development           2\n57     infographic           2\n41      management           2\n22             app           2\n29          banner           2\n26         network           2\n21         website           2\n7            chart           2\n88            male           1\n130       wireless           1\n97          upload           1\n96             top           1\n95        template           1\n85           hands           1\n94           style           1\n86           icons           1\n126       portable           1\n87    landing page           1\n127      processor           1\n"
     ]
    }
   ],
   "source": [
    "# jumlah kemunculan keyword unik\n",
    "kemunculan = []\n",
    "jumlah_kemunculan = 0\n",
    "for key1 in keyword_unik:\n",
    "    for key2 in keyword_gabungan:\n",
    "        if key1 == key2:\n",
    "            jumlah_kemunculan += 1\n",
    "    kemunculan.append(jumlah_kemunculan)\n",
    "    jumlah_kemunculan = 0\n",
    "\n",
    "df_kemunculan_keyword_unik = pd.DataFrame({\"Keyword Unik\" : keyword_unik, \"Kemunculan\" : kemunculan})\n",
    "\n",
    "print(df_kemunculan_keyword_unik.sort_values(\"Kemunculan\", ascending=False).head(50))"
   ]
  },
  {
   "cell_type": "code",
   "execution_count": 12,
   "metadata": {},
   "outputs": [
    {
     "output_type": "execute_result",
     "data": {
      "text/plain": [
       "{'business',\n",
       " 'computer',\n",
       " 'concept',\n",
       " 'design',\n",
       " 'illustration',\n",
       " 'internet',\n",
       " 'laptop',\n",
       " 'technology',\n",
       " 'vector',\n",
       " 'web'}"
      ]
     },
     "metadata": {},
     "execution_count": 12
    }
   ],
   "source": [
    "# irisan / intersection seluruh keyword apabila digabung\n",
    "# akan terlihat bagus jika hanya 3 data saja yg diambil\n",
    "\n",
    "set.intersection(*map(set,keywords))"
   ]
  },
  {
   "cell_type": "code",
   "execution_count": 13,
   "metadata": {},
   "outputs": [],
   "source": [
    "# rata-rata posisi keyword\n",
    "# keywords[0]\n",
    "posisi = []\n",
    "pos = []\n",
    "for row in range(len(keywords)):\n",
    "    for idx, key in enumerate(keywords[row]):\n",
    "        # print(key,idx+1)\n",
    "        pos.append(idx+1)\n",
    "    posisi.append(pos)\n",
    "\n",
    "sum_posisi = []\n",
    "ambil_posisi = 0\n",
    "rata_posisi = []\n",
    "\n",
    "for idx1, key1 in enumerate(keyword_unik):\n",
    "    for row in range(len(keywords)):\n",
    "        for idx2, key2 in enumerate(keywords[row]):\n",
    "            if key1 == key2:\n",
    "                ambil_posisi += posisi[row][idx2]\n",
    "    sum_posisi.append(ambil_posisi)\n",
    "    rata_posisi.append(ambil_posisi/kemunculan[idx1])\n",
    "    # print(key1, ambil_posisi, ambil_posisi/kemunculan[idx1])\n",
    "    ambil_posisi = 0"
   ]
  },
  {
   "cell_type": "code",
   "execution_count": 14,
   "metadata": {},
   "outputs": [],
   "source": [
    "df_kemunculan_keyword_unik = pd.DataFrame({\n",
    "    \"Keyword Unik\" : keyword_unik,\n",
    "    \"Kemunculan\" : kemunculan,\n",
    "    \"Rata-rata Posisi\" : rata_posisi\n",
    "})"
   ]
  },
  {
   "cell_type": "code",
   "execution_count": 15,
   "metadata": {},
   "outputs": [
    {
     "output_type": "execute_result",
     "data": {
      "text/plain": [
       "    Keyword Unik  Kemunculan  Rata-rata Posisi\n",
       "5         vector           5          4.600000\n",
       "8       business           5          7.800000\n",
       "2       computer           5         11.400000\n",
       "1         laptop           5         13.000000\n",
       "9         design           5         13.000000\n",
       "16           web           5         13.600000\n",
       "17       concept           5         17.600000\n",
       "38  illustration           5         21.000000\n",
       "12    technology           5         21.800000\n",
       "11      internet           5         24.000000\n",
       "4             3d           4          5.000000\n",
       "0      isometric           4          7.250000\n",
       "3           data           4         10.750000\n",
       "70       digital           4         13.000000\n",
       "47          icon           4         17.000000\n",
       "50          flat           4         19.000000\n",
       "28    background           4         21.000000\n",
       "65        modern           4         33.500000\n",
       "15      notebook           3         18.666667\n",
       "19       graphic           3         22.666667"
      ],
      "text/html": "<div>\n<style scoped>\n    .dataframe tbody tr th:only-of-type {\n        vertical-align: middle;\n    }\n\n    .dataframe tbody tr th {\n        vertical-align: top;\n    }\n\n    .dataframe thead th {\n        text-align: right;\n    }\n</style>\n<table border=\"1\" class=\"dataframe\">\n  <thead>\n    <tr style=\"text-align: right;\">\n      <th></th>\n      <th>Keyword Unik</th>\n      <th>Kemunculan</th>\n      <th>Rata-rata Posisi</th>\n    </tr>\n  </thead>\n  <tbody>\n    <tr>\n      <th>5</th>\n      <td>vector</td>\n      <td>5</td>\n      <td>4.600000</td>\n    </tr>\n    <tr>\n      <th>8</th>\n      <td>business</td>\n      <td>5</td>\n      <td>7.800000</td>\n    </tr>\n    <tr>\n      <th>2</th>\n      <td>computer</td>\n      <td>5</td>\n      <td>11.400000</td>\n    </tr>\n    <tr>\n      <th>1</th>\n      <td>laptop</td>\n      <td>5</td>\n      <td>13.000000</td>\n    </tr>\n    <tr>\n      <th>9</th>\n      <td>design</td>\n      <td>5</td>\n      <td>13.000000</td>\n    </tr>\n    <tr>\n      <th>16</th>\n      <td>web</td>\n      <td>5</td>\n      <td>13.600000</td>\n    </tr>\n    <tr>\n      <th>17</th>\n      <td>concept</td>\n      <td>5</td>\n      <td>17.600000</td>\n    </tr>\n    <tr>\n      <th>38</th>\n      <td>illustration</td>\n      <td>5</td>\n      <td>21.000000</td>\n    </tr>\n    <tr>\n      <th>12</th>\n      <td>technology</td>\n      <td>5</td>\n      <td>21.800000</td>\n    </tr>\n    <tr>\n      <th>11</th>\n      <td>internet</td>\n      <td>5</td>\n      <td>24.000000</td>\n    </tr>\n    <tr>\n      <th>4</th>\n      <td>3d</td>\n      <td>4</td>\n      <td>5.000000</td>\n    </tr>\n    <tr>\n      <th>0</th>\n      <td>isometric</td>\n      <td>4</td>\n      <td>7.250000</td>\n    </tr>\n    <tr>\n      <th>3</th>\n      <td>data</td>\n      <td>4</td>\n      <td>10.750000</td>\n    </tr>\n    <tr>\n      <th>70</th>\n      <td>digital</td>\n      <td>4</td>\n      <td>13.000000</td>\n    </tr>\n    <tr>\n      <th>47</th>\n      <td>icon</td>\n      <td>4</td>\n      <td>17.000000</td>\n    </tr>\n    <tr>\n      <th>50</th>\n      <td>flat</td>\n      <td>4</td>\n      <td>19.000000</td>\n    </tr>\n    <tr>\n      <th>28</th>\n      <td>background</td>\n      <td>4</td>\n      <td>21.000000</td>\n    </tr>\n    <tr>\n      <th>65</th>\n      <td>modern</td>\n      <td>4</td>\n      <td>33.500000</td>\n    </tr>\n    <tr>\n      <th>15</th>\n      <td>notebook</td>\n      <td>3</td>\n      <td>18.666667</td>\n    </tr>\n    <tr>\n      <th>19</th>\n      <td>graphic</td>\n      <td>3</td>\n      <td>22.666667</td>\n    </tr>\n  </tbody>\n</table>\n</div>"
     },
     "metadata": {},
     "execution_count": 15
    }
   ],
   "source": [
    "df_kemunculan_keyword_unik.sort_values([\"Kemunculan\",\"Rata-rata Posisi\"], ascending=(False, True))[:20]"
   ]
  }
 ]
}